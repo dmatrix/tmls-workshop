{
 "cells": [
  {
   "cell_type": "markdown",
   "metadata": {
    "application/vnd.databricks.v1+cell": {
     "inputWidgets": {},
     "nuid": "7e4ae92f-1707-4e47-aac6-2c809017178a",
     "showTitle": false,
     "title": ""
    }
   },
   "source": [
    "#### Problem Tutorial 1: Sentiment Analysis Model\n",
    "\n",
    "We want to do sentiment analysis by using [VaderSentiment ML framework](https://medium.com/analytics-vidhya/simplifying-social-media-sentiment-analysis-using-vader-in-python-f9e6ec6fc52f) not supported as an MLflow Flavor.\n",
    "The goal of sentiment analysis is to \"gauge the attitude, sentiments, evaluations, attitudes and emotions of a speaker/writer based on the computational treatment of subjectivity in a text.\"\n",
    "\n",
    "VADER (Valence Aware Dictionary and sEntiment Reasoner) is a lexicon and rule-based sentiment analysis tool that is specifically attuned to sentiments expressed in social media.\n",
    "\n",
    "VADER has a lot of advantages over traditional methods of Sentiment Analysis, including:\n",
    "\n",
    "\n",
    " * It works exceedingly well on social media type text, yet readily generalizes to multiple domains\n",
    " * It doesn’t require any training data but is constructed from a generalizable, valence-based, human-curated gold standard sentiment lexicon\n",
    " * It is fast enough to be used online with streaming data, and\n",
    " * It does not severely suffer from a speed-performance tradeoff.\n",
    "\n",
    "\n",
    "<table>\n",
    "  <tr><td>\n",
    "    <img src=\"https://github.com/dmatrix/olt-mlflow/raw/master/models/images/sentiment_analysis.jpg\"\n",
    "         alt=\"Sentiment Analysis with Vader \" width=\"600\">\n",
    "  </td></tr>\n",
    "</table>\n",
    "\n",
    "[image source](https://medium.com/analytics-vidhya/sentiment-analysis-with-vader-label-the-unlabeled-data-8dd785225166)"
   ]
  },
  {
   "cell_type": "code",
   "execution_count": 9,
   "metadata": {
    "application/vnd.databricks.v1+cell": {
     "inputWidgets": {},
     "nuid": "5da195fc-52b9-499d-aa7f-1ecf85445ff3",
     "showTitle": false,
     "title": ""
    }
   },
   "outputs": [
    {
     "name": "stdout",
     "output_type": "stream",
     "text": [
      "Requirement already satisfied: vaderSentiment in /usr/local/lib/python3.8/site-packages (3.3.2)\n",
      "Requirement already satisfied: requests in /usr/local/lib/python3.8/site-packages (from vaderSentiment) (2.25.0)\n",
      "Requirement already satisfied: idna<3,>=2.5 in /usr/local/lib/python3.8/site-packages (from requests->vaderSentiment) (2.10)\n",
      "Requirement already satisfied: chardet<4,>=3.0.2 in /usr/local/lib/python3.8/site-packages (from requests->vaderSentiment) (3.0.4)\n",
      "Requirement already satisfied: certifi>=2017.4.17 in /usr/local/lib/python3.8/site-packages (from requests->vaderSentiment) (2020.12.5)\n",
      "Requirement already satisfied: urllib3<1.27,>=1.21.1 in /usr/local/lib/python3.8/site-packages (from requests->vaderSentiment) (1.26.2)\n",
      "Note: you may need to restart the kernel to use updated packages.\n"
     ]
    }
   ],
   "source": [
    "%pip install vaderSentiment"
   ]
  },
  {
   "cell_type": "markdown",
   "metadata": {
    "application/vnd.databricks.v1+cell": {
     "inputWidgets": {},
     "nuid": "fd1be150-ced2-4763-b99e-4d261e60f112",
     "showTitle": false,
     "title": ""
    }
   },
   "source": [
    "### VaderSentiment Python Package\n",
    "\n",
    "You can read the orignal paper by authors [here](http://comp.social.gatech.edu/papers/icwsm14.vader.hutto.pdf)."
   ]
  },
  {
   "cell_type": "code",
   "execution_count": 10,
   "metadata": {
    "application/vnd.databricks.v1+cell": {
     "inputWidgets": {},
     "nuid": "e084d0ba-81da-4927-8300-be1fa4469fa6",
     "showTitle": false,
     "title": ""
    }
   },
   "outputs": [],
   "source": [
    "from vaderSentiment.vaderSentiment import SentimentIntensityAnalyzer\n",
    "import pandas as pd\n",
    "import mlflow.pyfunc"
   ]
  },
  {
   "cell_type": "code",
   "execution_count": 11,
   "metadata": {
    "application/vnd.databricks.v1+cell": {
     "inputWidgets": {},
     "nuid": "5baf96c4-5e00-45e9-a036-53dc9fcafd9d",
     "showTitle": false,
     "title": ""
    }
   },
   "outputs": [],
   "source": [
    "# Define some input text\n",
    "\n",
    "INPUT_TEXTS = [{'text': \"This is a bad ass movie. You got to see it! :-)\"},\n",
    "               {'text': \"Ricky Gervais is smart, witty, and creative!!!!!! :D\"},\n",
    "               {'text': \"LOL, this guy fell off a chair while sleeping and snoring in a meeting\"},\n",
    "               {'text': \"Men shoots himself while trying to steal a dog, OMG\"},\n",
    "               {'text': \"Yay!! Another good phone interview. I nailed it!!\"},\n",
    "               {'text': \"This is INSANE! I can't believe it. How could you do such a horrible thing?\"}]"
   ]
  },
  {
   "cell_type": "markdown",
   "metadata": {
    "application/vnd.databricks.v1+cell": {
     "inputWidgets": {},
     "nuid": "2d8b58df-0363-46e1-8c87-18ddee19d166",
     "showTitle": false,
     "title": ""
    }
   },
   "source": [
    "### Define a SocialMediaAnalyserModel\n",
    "\n",
    "This is a subclass of [PythonModel](https://mlflow.org/docs/latest/python_api/mlflow.pyfunc.html#mlflow.pyfunc.PythonModel)"
   ]
  },
  {
   "cell_type": "code",
   "execution_count": 12,
   "metadata": {
    "application/vnd.databricks.v1+cell": {
     "inputWidgets": {},
     "nuid": "7c9475c2-b8ce-4d55-aee3-d72c6144fdcc",
     "showTitle": false,
     "title": ""
    }
   },
   "outputs": [],
   "source": [
    "class SocialMediaAnalyserModel(mlflow.pyfunc.PythonModel):\n",
    "\n",
    "   def __init__(self):\n",
    "      \"\"\"\n",
    "      Constructor for our Cusomized PyFunc PythonModel Class\n",
    "      \"\"\"\n",
    "      super().__init__()\n",
    "      # Initialize an instance of vader analyser\n",
    "      self._analyser = SentimentIntensityAnalyzer()\n",
    "\n",
    "   def _score(self, text):\n",
    "    \"\"\"\n",
    "    Private function to analyse the scores. It invokes model's polarity_scores  \n",
    "    param: text to analyse\n",
    "    return: sentiment analyses scores\n",
    "    \"\"\"\n",
    "    scores = self._analyser.polarity_scores(text)\n",
    "    return scores\n",
    "\n",
    "   def predict(self, context, model_input):\n",
    "    \"\"\"\n",
    "    Implement the predict function required for PythonModel\n",
    "    \"\"\"\n",
    "    model_output = model_input.apply(lambda col: self._score(col))\n",
    "    return model_output"
   ]
  },
  {
   "cell_type": "code",
   "execution_count": 13,
   "metadata": {
    "application/vnd.databricks.v1+cell": {
     "inputWidgets": {},
     "nuid": "3d2c3a20-847e-4804-8208-313f47ad048a",
     "showTitle": false,
     "title": ""
    }
   },
   "outputs": [],
   "source": [
    "def mlflow_run():\n",
    "  \n",
    "  # Save the conda environment for this model. \n",
    "  conda_env = {\n",
    "    'channels': ['defaults', 'conda-forge'],\n",
    "    'dependencies': [\n",
    "        'python=3.7.6',\n",
    "        'pip'],\n",
    "    'pip': [\n",
    "      'mlflow',\n",
    "      'cloudpickle==1.3.0',\n",
    "      'vaderSentiment==3.3.2'\n",
    "    ],\n",
    "    'name': 'mlflow-env'\n",
    "  }\n",
    "  \n",
    "  mlflow.set_tracking_uri(\"sqlite:///mlruns.db\")\n",
    "\n",
    "  # Model name and create an instance of PyFuncModel\n",
    "  model_path = \"vader\"\n",
    "  vader_model = SocialMediaAnalyserModel()\n",
    "  with mlflow.start_run(run_name=\"Vader Sentiment Analysis\") as run:\n",
    "    # Log MLflow entities: params and model\n",
    "    mlflow.pyfunc.log_model(model_path, python_model=vader_model, conda_env=conda_env, registered_model_name=\"PyFuncVader\")\n",
    "    mlflow.log_param(\"algorithm\", \"VADER\")\n",
    "    mlflow.log_param(\"total_sentiments\", len(INPUT_TEXTS))"
   ]
  },
  {
   "cell_type": "code",
   "execution_count": 14,
   "metadata": {
    "application/vnd.databricks.v1+cell": {
     "inputWidgets": {},
     "nuid": "9de8b40d-24e6-42ba-abba-7defbb57d864",
     "showTitle": false,
     "title": ""
    }
   },
   "outputs": [
    {
     "name": "stderr",
     "output_type": "stream",
     "text": [
      "INFO  [alembic.runtime.migration] Context impl SQLiteImpl.\n",
      "INFO  [alembic.runtime.migration] Will assume non-transactional DDL.\n",
      "INFO  [alembic.runtime.migration] Context impl SQLiteImpl.\n",
      "INFO  [alembic.runtime.migration] Will assume non-transactional DDL.\n",
      "INFO  [alembic.runtime.migration] Context impl SQLiteImpl.\n",
      "INFO  [alembic.runtime.migration] Will assume non-transactional DDL.\n",
      "INFO  [alembic.runtime.migration] Context impl SQLiteImpl.\n",
      "INFO  [alembic.runtime.migration] Will assume non-transactional DDL.\n",
      "Registered model 'PyFuncVader' already exists. Creating a new version of this model...\n",
      "INFO  [alembic.runtime.migration] Context impl SQLiteImpl.\n",
      "INFO  [alembic.runtime.migration] Will assume non-transactional DDL.\n",
      "2021/06/07 09:24:03 INFO mlflow.tracking._model_registry.client: Waiting up to 300 seconds for model version to finish creation.                     Model name: PyFuncVader, version 2\n",
      "Created version '2' of model 'PyFuncVader'.\n",
      "INFO  [alembic.runtime.migration] Context impl SQLiteImpl.\n",
      "INFO  [alembic.runtime.migration] Will assume non-transactional DDL.\n",
      "INFO  [alembic.runtime.migration] Context impl SQLiteImpl.\n",
      "INFO  [alembic.runtime.migration] Will assume non-transactional DDL.\n",
      "INFO  [alembic.runtime.migration] Context impl SQLiteImpl.\n",
      "INFO  [alembic.runtime.migration] Will assume non-transactional DDL.\n"
     ]
    }
   ],
   "source": [
    "mlflow_run()"
   ]
  },
  {
   "cell_type": "markdown",
   "metadata": {
    "application/vnd.databricks.v1+cell": {
     "inputWidgets": {},
     "nuid": "67cb98ee-cf36-4bae-92bf-ebe551474737",
     "showTitle": false,
     "title": ""
    }
   },
   "source": [
    "### Load as a pyfunc_model from the model registry"
   ]
  },
  {
   "cell_type": "code",
   "execution_count": 15,
   "metadata": {
    "application/vnd.databricks.v1+cell": {
     "inputWidgets": {},
     "nuid": "d8f8440c-80a6-4fd1-af2a-a334cb36effa",
     "showTitle": false,
     "title": ""
    }
   },
   "outputs": [
    {
     "name": "stderr",
     "output_type": "stream",
     "text": [
      "INFO  [alembic.runtime.migration] Context impl SQLiteImpl.\n",
      "INFO  [alembic.runtime.migration] Will assume non-transactional DDL.\n"
     ]
    },
    {
     "name": "stdout",
     "output_type": "stream",
     "text": [
      "<Got to love this code snippet!> --> {'neg': 0.0, 'neu': 0.527, 'pos': 0.473, 'compound': 0.6696}>\n",
      "<Men shoots himself while trying to steal a dog, OMG> --> {'neg': 0.262, 'neu': 0.738, 'pos': 0.0, 'compound': -0.4939}>\n",
      "<Yay!! Another good phone interview. I nailed it!!> --> {'neg': 0.0, 'neu': 0.446, 'pos': 0.554, 'compound': 0.816}>\n"
     ]
    }
   ],
   "source": [
    "# Load back the model as a pyfunc_model for scoring\n",
    "input_texts = [\"Got to love this code snippet!\", \n",
    "               \"Men shoots himself while trying to steal a dog, OMG\", \n",
    "               \"Yay!! Another good phone interview. I nailed it!!\"]\n",
    "\n",
    "model_uri = f\"models:/PyFuncVader/1\"\n",
    "pyfunc_model = mlflow.pyfunc.load_model(model_uri)\n",
    "for i, text in enumerate(input_texts):\n",
    "  score = pyfunc_model.predict(pd.DataFrame([text]))\n",
    "  print(f\"<{text}> --> {str(score[0])}>\")"
   ]
  },
  {
   "cell_type": "code",
   "execution_count": 8,
   "metadata": {
    "application/vnd.databricks.v1+cell": {
     "inputWidgets": {},
     "nuid": "ccb7f7a0-c811-4305-bc5b-998ce2a4278c",
     "showTitle": false,
     "title": ""
    }
   },
   "outputs": [
    {
     "data": {
      "text/plain": [
       "'[{\"0\":\"Got to love this code snippet!\",\"1\":\"Men shoots himself while trying to steal a dog, OMG\",\"2\":\"Yay!! Another good phone interview. I nailed it!!\"}]'"
      ]
     },
     "execution_count": 8,
     "metadata": {},
     "output_type": "execute_result"
    }
   ],
   "source": [
    "model_input = pd.DataFrame([[\"Got to love this code snippet!\", \"Men shoots himself while trying to steal a dog, OMG\", \"Yay!! Another good phone interview. I nailed it!!\"]])\n",
    "pd.DataFrame.to_json(model_input, orient='records')"
   ]
  }
 ],
 "metadata": {
  "application/vnd.databricks.v1+notebook": {
   "dashboards": [],
   "language": "python",
   "notebookMetadata": {
    "experimentId": "9778498",
    "pythonIndentUnit": 2
   },
   "notebookName": "SentimentAnalysis",
   "notebookOrigID": 9778498,
   "widgets": {}
  },
  "kernelspec": {
   "display_name": "Python 3",
   "language": "python",
   "name": "python3"
  },
  "language_info": {
   "codemirror_mode": {
    "name": "ipython",
    "version": 3
   },
   "file_extension": ".py",
   "mimetype": "text/x-python",
   "name": "python",
   "nbconvert_exporter": "python",
   "pygments_lexer": "ipython3",
   "version": "3.8.10"
  }
 },
 "nbformat": 4,
 "nbformat_minor": 4
}

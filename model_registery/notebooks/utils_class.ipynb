{
 "cells": [
  {
   "cell_type": "code",
   "execution_count": 2,
   "metadata": {},
   "outputs": [],
   "source": [
    "import pandas as pd\n",
    "import tempfile\n",
    "import warnings\n",
    "warnings.filterwarnings(\"ignore\")"
   ]
  },
  {
   "cell_type": "code",
   "execution_count": 3,
   "metadata": {},
   "outputs": [],
   "source": [
    "class Utils:\n",
    "   @staticmethod\n",
    "   def load_data(path, index_col=0):\n",
    "      df = pd.read_csv(path, index_col=0)\n",
    "      return df\n",
    "\n",
    "   @staticmethod\n",
    "   def get_training_data(df):\n",
    "      training_data = pd.DataFrame(df[\"2014-01-01\":\"2018-01-01\"])\n",
    "      X = training_data.drop(columns=\"power\")\n",
    "      y = training_data[\"power\"]\n",
    "      return X, y\n",
    "\n",
    "   @staticmethod\n",
    "   def get_validation_data(df):\n",
    "      validation_data = pd.DataFrame(df[\"2018-01-01\":\"2019-01-01\"])\n",
    "      X = validation_data.drop(columns=\"power\")\n",
    "      y = validation_data[\"power\"]\n",
    "      return X, y\n",
    "\n",
    "   @staticmethod\n",
    "   def get_temporary_directory_path(prefix, suffix):\n",
    "      \"\"\"\n",
    "      Get a temporary directory and files for artifacts\n",
    "      :param prefix: name of the file\n",
    "      :param suffix: .csv, .txt, .png etc\n",
    "      :return: object to tempfile.\n",
    "      \"\"\"\n",
    "\n",
    "      temp = tempfile.NamedTemporaryFile(prefix=prefix, suffix=suffix)\n",
    "      return temp\n",
    "\n",
    "   @staticmethod\n",
    "   def print_pandas_dataset(d, n=5):\n",
    "      \"\"\"\n",
    "      Given a Pandas dataFrame show the dimensions sizes\n",
    "      :param d: Pandas dataFrame\n",
    "      :return: None\n",
    "      \"\"\"\n",
    "      print(\"rows = %d; columns=%d\" % (d.shape[0], d.shape[1]))\n",
    "      print(d.head(n))"
   ]
  }
 ],
 "metadata": {
  "kernelspec": {
   "display_name": "Python 3",
   "language": "python",
   "name": "python3"
  },
  "language_info": {
   "codemirror_mode": {
    "name": "ipython",
    "version": 3
   },
   "file_extension": ".py",
   "mimetype": "text/x-python",
   "name": "python",
   "nbconvert_exporter": "python",
   "pygments_lexer": "ipython3",
   "version": "3.8.10"
  }
 },
 "nbformat": 4,
 "nbformat_minor": 4
}
